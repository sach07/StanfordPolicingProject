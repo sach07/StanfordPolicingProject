{
 "cells": [
  {
   "cell_type": "code",
   "execution_count": 296,
   "metadata": {},
   "outputs": [],
   "source": [
    "import pandas as pd\n",
    "import numpy as np\n",
    "import matplotlib.pyplot as plt\n",
    "import seaborn as sns"
   ]
  },
  {
   "cell_type": "code",
   "execution_count": 297,
   "metadata": {},
   "outputs": [
    {
     "name": "stderr",
     "output_type": "stream",
     "text": [
      "C:\\Users\\Sachin\\Anaconda3\\lib\\site-packages\\IPython\\core\\interactiveshell.py:2728: DtypeWarning: Columns (8,16) have mixed types. Specify dtype option on import or set low_memory=False.\n",
      "  interactivity=interactivity, compiler=compiler, result=result)\n"
     ]
    }
   ],
   "source": [
    "ri=pd.read_csv(\"RhodeIsland.csv\")"
   ]
  },
  {
   "cell_type": "code",
   "execution_count": 298,
   "metadata": {},
   "outputs": [
    {
     "data": {
      "text/html": [
       "<div>\n",
       "<style scoped>\n",
       "    .dataframe tbody tr th:only-of-type {\n",
       "        vertical-align: middle;\n",
       "    }\n",
       "\n",
       "    .dataframe tbody tr th {\n",
       "        vertical-align: top;\n",
       "    }\n",
       "\n",
       "    .dataframe thead th {\n",
       "        text-align: right;\n",
       "    }\n",
       "</style>\n",
       "<table border=\"1\" class=\"dataframe\">\n",
       "  <thead>\n",
       "    <tr style=\"text-align: right;\">\n",
       "      <th></th>\n",
       "      <th>id</th>\n",
       "      <th>state</th>\n",
       "      <th>stop_date</th>\n",
       "      <th>stop_time</th>\n",
       "      <th>location_raw</th>\n",
       "      <th>county_name</th>\n",
       "      <th>county_fips</th>\n",
       "      <th>fine_grained_location</th>\n",
       "      <th>police_department</th>\n",
       "      <th>driver_gender</th>\n",
       "      <th>...</th>\n",
       "      <th>search_conducted</th>\n",
       "      <th>search_type_raw</th>\n",
       "      <th>search_type</th>\n",
       "      <th>contraband_found</th>\n",
       "      <th>stop_outcome</th>\n",
       "      <th>is_arrested</th>\n",
       "      <th>stop_duration</th>\n",
       "      <th>out_of_state</th>\n",
       "      <th>drugs_related_stop</th>\n",
       "      <th>district</th>\n",
       "    </tr>\n",
       "  </thead>\n",
       "  <tbody>\n",
       "    <tr>\n",
       "      <th>0</th>\n",
       "      <td>RI-2005-00001</td>\n",
       "      <td>RI</td>\n",
       "      <td>2005-01-02</td>\n",
       "      <td>01:55</td>\n",
       "      <td>Zone K1</td>\n",
       "      <td>NaN</td>\n",
       "      <td>NaN</td>\n",
       "      <td>NaN</td>\n",
       "      <td>600</td>\n",
       "      <td>M</td>\n",
       "      <td>...</td>\n",
       "      <td>False</td>\n",
       "      <td>NaN</td>\n",
       "      <td>NaN</td>\n",
       "      <td>False</td>\n",
       "      <td>Citation</td>\n",
       "      <td>False</td>\n",
       "      <td>0-15 Min</td>\n",
       "      <td>False</td>\n",
       "      <td>False</td>\n",
       "      <td>Zone K1</td>\n",
       "    </tr>\n",
       "    <tr>\n",
       "      <th>1</th>\n",
       "      <td>RI-2005-00002</td>\n",
       "      <td>RI</td>\n",
       "      <td>2005-01-02</td>\n",
       "      <td>20:30</td>\n",
       "      <td>Zone X4</td>\n",
       "      <td>NaN</td>\n",
       "      <td>NaN</td>\n",
       "      <td>NaN</td>\n",
       "      <td>500</td>\n",
       "      <td>M</td>\n",
       "      <td>...</td>\n",
       "      <td>False</td>\n",
       "      <td>NaN</td>\n",
       "      <td>NaN</td>\n",
       "      <td>False</td>\n",
       "      <td>Citation</td>\n",
       "      <td>False</td>\n",
       "      <td>16-30 Min</td>\n",
       "      <td>False</td>\n",
       "      <td>False</td>\n",
       "      <td>Zone X4</td>\n",
       "    </tr>\n",
       "    <tr>\n",
       "      <th>2</th>\n",
       "      <td>RI-2005-00003</td>\n",
       "      <td>RI</td>\n",
       "      <td>2005-01-04</td>\n",
       "      <td>11:30</td>\n",
       "      <td>Zone X1</td>\n",
       "      <td>NaN</td>\n",
       "      <td>NaN</td>\n",
       "      <td>NaN</td>\n",
       "      <td>0</td>\n",
       "      <td>NaN</td>\n",
       "      <td>...</td>\n",
       "      <td>False</td>\n",
       "      <td>NaN</td>\n",
       "      <td>NaN</td>\n",
       "      <td>False</td>\n",
       "      <td>NaN</td>\n",
       "      <td>NaN</td>\n",
       "      <td>NaN</td>\n",
       "      <td>NaN</td>\n",
       "      <td>False</td>\n",
       "      <td>Zone X1</td>\n",
       "    </tr>\n",
       "    <tr>\n",
       "      <th>3</th>\n",
       "      <td>RI-2005-00004</td>\n",
       "      <td>RI</td>\n",
       "      <td>2005-01-04</td>\n",
       "      <td>12:55</td>\n",
       "      <td>Zone X4</td>\n",
       "      <td>NaN</td>\n",
       "      <td>NaN</td>\n",
       "      <td>NaN</td>\n",
       "      <td>500</td>\n",
       "      <td>M</td>\n",
       "      <td>...</td>\n",
       "      <td>False</td>\n",
       "      <td>NaN</td>\n",
       "      <td>NaN</td>\n",
       "      <td>False</td>\n",
       "      <td>Citation</td>\n",
       "      <td>False</td>\n",
       "      <td>0-15 Min</td>\n",
       "      <td>False</td>\n",
       "      <td>False</td>\n",
       "      <td>Zone X4</td>\n",
       "    </tr>\n",
       "    <tr>\n",
       "      <th>4</th>\n",
       "      <td>RI-2005-00005</td>\n",
       "      <td>RI</td>\n",
       "      <td>2005-01-06</td>\n",
       "      <td>01:30</td>\n",
       "      <td>Zone X4</td>\n",
       "      <td>NaN</td>\n",
       "      <td>NaN</td>\n",
       "      <td>NaN</td>\n",
       "      <td>500</td>\n",
       "      <td>M</td>\n",
       "      <td>...</td>\n",
       "      <td>False</td>\n",
       "      <td>NaN</td>\n",
       "      <td>NaN</td>\n",
       "      <td>False</td>\n",
       "      <td>Citation</td>\n",
       "      <td>False</td>\n",
       "      <td>0-15 Min</td>\n",
       "      <td>False</td>\n",
       "      <td>False</td>\n",
       "      <td>Zone X4</td>\n",
       "    </tr>\n",
       "  </tbody>\n",
       "</table>\n",
       "<p>5 rows × 26 columns</p>\n",
       "</div>"
      ],
      "text/plain": [
       "              id state   stop_date stop_time location_raw  county_name  \\\n",
       "0  RI-2005-00001    RI  2005-01-02     01:55      Zone K1          NaN   \n",
       "1  RI-2005-00002    RI  2005-01-02     20:30      Zone X4          NaN   \n",
       "2  RI-2005-00003    RI  2005-01-04     11:30      Zone X1          NaN   \n",
       "3  RI-2005-00004    RI  2005-01-04     12:55      Zone X4          NaN   \n",
       "4  RI-2005-00005    RI  2005-01-06     01:30      Zone X4          NaN   \n",
       "\n",
       "   county_fips  fine_grained_location police_department driver_gender  \\\n",
       "0          NaN                    NaN               600             M   \n",
       "1          NaN                    NaN               500             M   \n",
       "2          NaN                    NaN                 0           NaN   \n",
       "3          NaN                    NaN               500             M   \n",
       "4          NaN                    NaN               500             M   \n",
       "\n",
       "     ...     search_conducted  search_type_raw search_type contraband_found  \\\n",
       "0    ...                False              NaN         NaN            False   \n",
       "1    ...                False              NaN         NaN            False   \n",
       "2    ...                False              NaN         NaN            False   \n",
       "3    ...                False              NaN         NaN            False   \n",
       "4    ...                False              NaN         NaN            False   \n",
       "\n",
       "  stop_outcome is_arrested stop_duration out_of_state drugs_related_stop  \\\n",
       "0     Citation       False      0-15 Min        False              False   \n",
       "1     Citation       False     16-30 Min        False              False   \n",
       "2          NaN         NaN           NaN          NaN              False   \n",
       "3     Citation       False      0-15 Min        False              False   \n",
       "4     Citation       False      0-15 Min        False              False   \n",
       "\n",
       "   district  \n",
       "0   Zone K1  \n",
       "1   Zone X4  \n",
       "2   Zone X1  \n",
       "3   Zone X4  \n",
       "4   Zone X4  \n",
       "\n",
       "[5 rows x 26 columns]"
      ]
     },
     "execution_count": 298,
     "metadata": {},
     "output_type": "execute_result"
    }
   ],
   "source": [
    "ri.head()"
   ]
  },
  {
   "cell_type": "code",
   "execution_count": 299,
   "metadata": {},
   "outputs": [
    {
     "data": {
      "text/plain": [
       "id                            0\n",
       "state                         0\n",
       "stop_date                    10\n",
       "stop_time                    10\n",
       "location_raw                  0\n",
       "county_name              509681\n",
       "county_fips              509681\n",
       "fine_grained_location    509681\n",
       "police_department            10\n",
       "driver_gender             29097\n",
       "driver_age_raw            29049\n",
       "driver_age                30695\n",
       "driver_race_raw           29073\n",
       "driver_race               29073\n",
       "violation_raw             29073\n",
       "violation                 29073\n",
       "search_conducted             10\n",
       "search_type_raw          491919\n",
       "search_type              491919\n",
       "contraband_found              0\n",
       "stop_outcome              29073\n",
       "is_arrested               29073\n",
       "stop_duration             29073\n",
       "out_of_state              29881\n",
       "drugs_related_stop            0\n",
       "district                      0\n",
       "dtype: int64"
      ]
     },
     "execution_count": 299,
     "metadata": {},
     "output_type": "execute_result"
    }
   ],
   "source": [
    "ri.isnull().sum()"
   ]
  },
  {
   "cell_type": "code",
   "execution_count": 300,
   "metadata": {},
   "outputs": [
    {
     "data": {
      "text/plain": [
       "(509681, 26)"
      ]
     },
     "execution_count": 300,
     "metadata": {},
     "output_type": "execute_result"
    }
   ],
   "source": [
    "ri.shape"
   ]
  },
  {
   "cell_type": "code",
   "execution_count": 301,
   "metadata": {},
   "outputs": [],
   "source": [
    "ri.drop(['id','driver_age_raw','driver_race_raw','search_type_raw','county_name','violation_raw','county_fips','fine_grained_location','search_type_raw'],axis='columns',inplace=True)"
   ]
  },
  {
   "cell_type": "code",
   "execution_count": 302,
   "metadata": {},
   "outputs": [
    {
     "name": "stdout",
     "output_type": "stream",
     "text": [
      "<class 'pandas.core.frame.DataFrame'>\n",
      "RangeIndex: 509681 entries, 0 to 509680\n",
      "Data columns (total 18 columns):\n",
      "state                 509681 non-null object\n",
      "stop_date             509671 non-null object\n",
      "stop_time             509671 non-null object\n",
      "location_raw          509681 non-null object\n",
      "police_department     509671 non-null object\n",
      "driver_gender         480584 non-null object\n",
      "driver_age            478986 non-null float64\n",
      "driver_race           480608 non-null object\n",
      "violation             480608 non-null object\n",
      "search_conducted      509671 non-null object\n",
      "search_type           17762 non-null object\n",
      "contraband_found      509681 non-null bool\n",
      "stop_outcome          480608 non-null object\n",
      "is_arrested           480608 non-null object\n",
      "stop_duration         480608 non-null object\n",
      "out_of_state          479800 non-null object\n",
      "drugs_related_stop    509681 non-null bool\n",
      "district              509681 non-null object\n",
      "dtypes: bool(2), float64(1), object(15)\n",
      "memory usage: 63.2+ MB\n"
     ]
    }
   ],
   "source": [
    "ri.info()"
   ]
  },
  {
   "cell_type": "code",
   "execution_count": 303,
   "metadata": {},
   "outputs": [
    {
     "data": {
      "text/html": [
       "<div>\n",
       "<style scoped>\n",
       "    .dataframe tbody tr th:only-of-type {\n",
       "        vertical-align: middle;\n",
       "    }\n",
       "\n",
       "    .dataframe tbody tr th {\n",
       "        vertical-align: top;\n",
       "    }\n",
       "\n",
       "    .dataframe thead th {\n",
       "        text-align: right;\n",
       "    }\n",
       "</style>\n",
       "<table border=\"1\" class=\"dataframe\">\n",
       "  <thead>\n",
       "    <tr style=\"text-align: right;\">\n",
       "      <th></th>\n",
       "      <th>state</th>\n",
       "      <th>stop_date</th>\n",
       "      <th>stop_time</th>\n",
       "      <th>location_raw</th>\n",
       "      <th>police_department</th>\n",
       "      <th>driver_gender</th>\n",
       "      <th>driver_age</th>\n",
       "      <th>driver_race</th>\n",
       "      <th>violation</th>\n",
       "      <th>search_conducted</th>\n",
       "      <th>search_type</th>\n",
       "      <th>contraband_found</th>\n",
       "      <th>stop_outcome</th>\n",
       "      <th>is_arrested</th>\n",
       "      <th>stop_duration</th>\n",
       "      <th>out_of_state</th>\n",
       "      <th>drugs_related_stop</th>\n",
       "      <th>district</th>\n",
       "    </tr>\n",
       "  </thead>\n",
       "  <tbody>\n",
       "    <tr>\n",
       "      <th>count</th>\n",
       "      <td>509681</td>\n",
       "      <td>509671</td>\n",
       "      <td>509671</td>\n",
       "      <td>509681</td>\n",
       "      <td>509671.0</td>\n",
       "      <td>480584</td>\n",
       "      <td>478986.000000</td>\n",
       "      <td>480608</td>\n",
       "      <td>480608</td>\n",
       "      <td>509671</td>\n",
       "      <td>17762</td>\n",
       "      <td>509681</td>\n",
       "      <td>480608</td>\n",
       "      <td>480608</td>\n",
       "      <td>480608</td>\n",
       "      <td>479800</td>\n",
       "      <td>509681</td>\n",
       "      <td>509681</td>\n",
       "    </tr>\n",
       "    <tr>\n",
       "      <th>unique</th>\n",
       "      <td>1</td>\n",
       "      <td>3809</td>\n",
       "      <td>1440</td>\n",
       "      <td>7</td>\n",
       "      <td>73.0</td>\n",
       "      <td>2</td>\n",
       "      <td>NaN</td>\n",
       "      <td>5</td>\n",
       "      <td>6</td>\n",
       "      <td>2</td>\n",
       "      <td>25</td>\n",
       "      <td>2</td>\n",
       "      <td>6</td>\n",
       "      <td>2</td>\n",
       "      <td>5</td>\n",
       "      <td>2</td>\n",
       "      <td>2</td>\n",
       "      <td>7</td>\n",
       "    </tr>\n",
       "    <tr>\n",
       "      <th>top</th>\n",
       "      <td>RI</td>\n",
       "      <td>2006-05-21</td>\n",
       "      <td>10:00</td>\n",
       "      <td>Zone X4</td>\n",
       "      <td>500.0</td>\n",
       "      <td>M</td>\n",
       "      <td>NaN</td>\n",
       "      <td>White</td>\n",
       "      <td>Speeding</td>\n",
       "      <td>False</td>\n",
       "      <td>Incident to Arrest</td>\n",
       "      <td>False</td>\n",
       "      <td>Citation</td>\n",
       "      <td>False</td>\n",
       "      <td>0-15 Min</td>\n",
       "      <td>False</td>\n",
       "      <td>False</td>\n",
       "      <td>Zone X4</td>\n",
       "    </tr>\n",
       "    <tr>\n",
       "      <th>freq</th>\n",
       "      <td>509681</td>\n",
       "      <td>302</td>\n",
       "      <td>1763</td>\n",
       "      <td>135349</td>\n",
       "      <td>113927.0</td>\n",
       "      <td>349446</td>\n",
       "      <td>NaN</td>\n",
       "      <td>344734</td>\n",
       "      <td>268744</td>\n",
       "      <td>491909</td>\n",
       "      <td>6998</td>\n",
       "      <td>503102</td>\n",
       "      <td>428388</td>\n",
       "      <td>464005</td>\n",
       "      <td>386665</td>\n",
       "      <td>321276</td>\n",
       "      <td>504916</td>\n",
       "      <td>135349</td>\n",
       "    </tr>\n",
       "    <tr>\n",
       "      <th>mean</th>\n",
       "      <td>NaN</td>\n",
       "      <td>NaN</td>\n",
       "      <td>NaN</td>\n",
       "      <td>NaN</td>\n",
       "      <td>NaN</td>\n",
       "      <td>NaN</td>\n",
       "      <td>33.982027</td>\n",
       "      <td>NaN</td>\n",
       "      <td>NaN</td>\n",
       "      <td>NaN</td>\n",
       "      <td>NaN</td>\n",
       "      <td>NaN</td>\n",
       "      <td>NaN</td>\n",
       "      <td>NaN</td>\n",
       "      <td>NaN</td>\n",
       "      <td>NaN</td>\n",
       "      <td>NaN</td>\n",
       "      <td>NaN</td>\n",
       "    </tr>\n",
       "    <tr>\n",
       "      <th>std</th>\n",
       "      <td>NaN</td>\n",
       "      <td>NaN</td>\n",
       "      <td>NaN</td>\n",
       "      <td>NaN</td>\n",
       "      <td>NaN</td>\n",
       "      <td>NaN</td>\n",
       "      <td>12.702864</td>\n",
       "      <td>NaN</td>\n",
       "      <td>NaN</td>\n",
       "      <td>NaN</td>\n",
       "      <td>NaN</td>\n",
       "      <td>NaN</td>\n",
       "      <td>NaN</td>\n",
       "      <td>NaN</td>\n",
       "      <td>NaN</td>\n",
       "      <td>NaN</td>\n",
       "      <td>NaN</td>\n",
       "      <td>NaN</td>\n",
       "    </tr>\n",
       "    <tr>\n",
       "      <th>min</th>\n",
       "      <td>NaN</td>\n",
       "      <td>NaN</td>\n",
       "      <td>NaN</td>\n",
       "      <td>NaN</td>\n",
       "      <td>NaN</td>\n",
       "      <td>NaN</td>\n",
       "      <td>15.000000</td>\n",
       "      <td>NaN</td>\n",
       "      <td>NaN</td>\n",
       "      <td>NaN</td>\n",
       "      <td>NaN</td>\n",
       "      <td>NaN</td>\n",
       "      <td>NaN</td>\n",
       "      <td>NaN</td>\n",
       "      <td>NaN</td>\n",
       "      <td>NaN</td>\n",
       "      <td>NaN</td>\n",
       "      <td>NaN</td>\n",
       "    </tr>\n",
       "    <tr>\n",
       "      <th>25%</th>\n",
       "      <td>NaN</td>\n",
       "      <td>NaN</td>\n",
       "      <td>NaN</td>\n",
       "      <td>NaN</td>\n",
       "      <td>NaN</td>\n",
       "      <td>NaN</td>\n",
       "      <td>23.000000</td>\n",
       "      <td>NaN</td>\n",
       "      <td>NaN</td>\n",
       "      <td>NaN</td>\n",
       "      <td>NaN</td>\n",
       "      <td>NaN</td>\n",
       "      <td>NaN</td>\n",
       "      <td>NaN</td>\n",
       "      <td>NaN</td>\n",
       "      <td>NaN</td>\n",
       "      <td>NaN</td>\n",
       "      <td>NaN</td>\n",
       "    </tr>\n",
       "    <tr>\n",
       "      <th>50%</th>\n",
       "      <td>NaN</td>\n",
       "      <td>NaN</td>\n",
       "      <td>NaN</td>\n",
       "      <td>NaN</td>\n",
       "      <td>NaN</td>\n",
       "      <td>NaN</td>\n",
       "      <td>31.000000</td>\n",
       "      <td>NaN</td>\n",
       "      <td>NaN</td>\n",
       "      <td>NaN</td>\n",
       "      <td>NaN</td>\n",
       "      <td>NaN</td>\n",
       "      <td>NaN</td>\n",
       "      <td>NaN</td>\n",
       "      <td>NaN</td>\n",
       "      <td>NaN</td>\n",
       "      <td>NaN</td>\n",
       "      <td>NaN</td>\n",
       "    </tr>\n",
       "    <tr>\n",
       "      <th>75%</th>\n",
       "      <td>NaN</td>\n",
       "      <td>NaN</td>\n",
       "      <td>NaN</td>\n",
       "      <td>NaN</td>\n",
       "      <td>NaN</td>\n",
       "      <td>NaN</td>\n",
       "      <td>43.000000</td>\n",
       "      <td>NaN</td>\n",
       "      <td>NaN</td>\n",
       "      <td>NaN</td>\n",
       "      <td>NaN</td>\n",
       "      <td>NaN</td>\n",
       "      <td>NaN</td>\n",
       "      <td>NaN</td>\n",
       "      <td>NaN</td>\n",
       "      <td>NaN</td>\n",
       "      <td>NaN</td>\n",
       "      <td>NaN</td>\n",
       "    </tr>\n",
       "    <tr>\n",
       "      <th>max</th>\n",
       "      <td>NaN</td>\n",
       "      <td>NaN</td>\n",
       "      <td>NaN</td>\n",
       "      <td>NaN</td>\n",
       "      <td>NaN</td>\n",
       "      <td>NaN</td>\n",
       "      <td>99.000000</td>\n",
       "      <td>NaN</td>\n",
       "      <td>NaN</td>\n",
       "      <td>NaN</td>\n",
       "      <td>NaN</td>\n",
       "      <td>NaN</td>\n",
       "      <td>NaN</td>\n",
       "      <td>NaN</td>\n",
       "      <td>NaN</td>\n",
       "      <td>NaN</td>\n",
       "      <td>NaN</td>\n",
       "      <td>NaN</td>\n",
       "    </tr>\n",
       "  </tbody>\n",
       "</table>\n",
       "</div>"
      ],
      "text/plain": [
       "         state   stop_date stop_time location_raw  police_department  \\\n",
       "count   509681      509671    509671       509681           509671.0   \n",
       "unique       1        3809      1440            7               73.0   \n",
       "top         RI  2006-05-21     10:00      Zone X4              500.0   \n",
       "freq    509681         302      1763       135349           113927.0   \n",
       "mean       NaN         NaN       NaN          NaN                NaN   \n",
       "std        NaN         NaN       NaN          NaN                NaN   \n",
       "min        NaN         NaN       NaN          NaN                NaN   \n",
       "25%        NaN         NaN       NaN          NaN                NaN   \n",
       "50%        NaN         NaN       NaN          NaN                NaN   \n",
       "75%        NaN         NaN       NaN          NaN                NaN   \n",
       "max        NaN         NaN       NaN          NaN                NaN   \n",
       "\n",
       "       driver_gender     driver_age driver_race violation search_conducted  \\\n",
       "count         480584  478986.000000      480608    480608           509671   \n",
       "unique             2            NaN           5         6                2   \n",
       "top                M            NaN       White  Speeding            False   \n",
       "freq          349446            NaN      344734    268744           491909   \n",
       "mean             NaN      33.982027         NaN       NaN              NaN   \n",
       "std              NaN      12.702864         NaN       NaN              NaN   \n",
       "min              NaN      15.000000         NaN       NaN              NaN   \n",
       "25%              NaN      23.000000         NaN       NaN              NaN   \n",
       "50%              NaN      31.000000         NaN       NaN              NaN   \n",
       "75%              NaN      43.000000         NaN       NaN              NaN   \n",
       "max              NaN      99.000000         NaN       NaN              NaN   \n",
       "\n",
       "               search_type contraband_found stop_outcome is_arrested  \\\n",
       "count                17762           509681       480608      480608   \n",
       "unique                  25                2            6           2   \n",
       "top     Incident to Arrest            False     Citation       False   \n",
       "freq                  6998           503102       428388      464005   \n",
       "mean                   NaN              NaN          NaN         NaN   \n",
       "std                    NaN              NaN          NaN         NaN   \n",
       "min                    NaN              NaN          NaN         NaN   \n",
       "25%                    NaN              NaN          NaN         NaN   \n",
       "50%                    NaN              NaN          NaN         NaN   \n",
       "75%                    NaN              NaN          NaN         NaN   \n",
       "max                    NaN              NaN          NaN         NaN   \n",
       "\n",
       "       stop_duration out_of_state drugs_related_stop district  \n",
       "count         480608       479800             509681   509681  \n",
       "unique             5            2                  2        7  \n",
       "top         0-15 Min        False              False  Zone X4  \n",
       "freq          386665       321276             504916   135349  \n",
       "mean             NaN          NaN                NaN      NaN  \n",
       "std              NaN          NaN                NaN      NaN  \n",
       "min              NaN          NaN                NaN      NaN  \n",
       "25%              NaN          NaN                NaN      NaN  \n",
       "50%              NaN          NaN                NaN      NaN  \n",
       "75%              NaN          NaN                NaN      NaN  \n",
       "max              NaN          NaN                NaN      NaN  "
      ]
     },
     "execution_count": 303,
     "metadata": {},
     "output_type": "execute_result"
    }
   ],
   "source": [
    "ri.describe(include='all')"
   ]
  },
  {
   "cell_type": "code",
   "execution_count": 304,
   "metadata": {},
   "outputs": [
    {
     "data": {
      "text/plain": [
       "M    349446\n",
       "F    131138\n",
       "Name: driver_gender, dtype: int64"
      ]
     },
     "execution_count": 304,
     "metadata": {},
     "output_type": "execute_result"
    }
   ],
   "source": [
    "ri['driver_gender'].value_counts()"
   ]
  },
  {
   "cell_type": "code",
   "execution_count": 305,
   "metadata": {},
   "outputs": [
    {
     "data": {
      "text/plain": [
       "M    0.727128\n",
       "F    0.272872\n",
       "Name: driver_gender, dtype: float64"
      ]
     },
     "execution_count": 305,
     "metadata": {},
     "output_type": "execute_result"
    }
   ],
   "source": [
    "ri['driver_gender'].value_counts(normalize=True)"
   ]
  },
  {
   "cell_type": "code",
   "execution_count": 306,
   "metadata": {},
   "outputs": [
    {
     "data": {
      "text/plain": [
       "driver_gender\n",
       "F    32.536682\n",
       "M    34.524914\n",
       "Name: driver_age, dtype: float64"
      ]
     },
     "execution_count": 306,
     "metadata": {},
     "output_type": "execute_result"
    }
   ],
   "source": [
    "ri.groupby('driver_gender')['driver_age'].mean()"
   ]
  },
  {
   "cell_type": "code",
   "execution_count": 307,
   "metadata": {},
   "outputs": [
    {
     "data": {
      "text/plain": [
       "driver_gender  violation          \n",
       "F              Equipment              31.600342\n",
       "               Moving violation       33.616366\n",
       "               Other                  34.624866\n",
       "               Registration/plates    32.187101\n",
       "               Seat belt              30.818822\n",
       "               Speeding               32.468429\n",
       "M              Equipment              31.830886\n",
       "               Moving violation       36.643351\n",
       "               Other                  40.720944\n",
       "               Registration/plates    32.935951\n",
       "               Seat belt              32.644893\n",
       "               Speeding               33.964889\n",
       "Name: driver_age, dtype: float64"
      ]
     },
     "execution_count": 307,
     "metadata": {},
     "output_type": "execute_result"
    }
   ],
   "source": [
    "ri.groupby(['driver_gender','violation'])['driver_age'].mean()"
   ]
  },
  {
   "cell_type": "code",
   "execution_count": 308,
   "metadata": {},
   "outputs": [
    {
     "data": {
      "text/plain": [
       "<matplotlib.axes._subplots.AxesSubplot at 0x2492cf6a828>"
      ]
     },
     "execution_count": 308,
     "metadata": {},
     "output_type": "execute_result"
    },
    {
     "data": {
      "image/png": "[encoded data removed]",
      "text/plain": [
       "<matplotlib.figure.Figure at 0x2492b92d0f0>"
      ]
     },
     "metadata": {},
     "output_type": "display_data"
    }
   ],
   "source": [
    "ri['driver_age'].plot(kind='hist')"
   ]
  },
  {
   "cell_type": "code",
   "execution_count": 309,
   "metadata": {},
   "outputs": [
    {
     "data": {
      "text/plain": [
       "driver_gender\n",
       "F    29.0\n",
       "M    31.0\n",
       "Name: driver_age, dtype: float64"
      ]
     },
     "execution_count": 309,
     "metadata": {},
     "output_type": "execute_result"
    }
   ],
   "source": [
    "ri.groupby('driver_gender')['driver_age'].median()"
   ]
  },
  {
   "cell_type": "code",
   "execution_count": 310,
   "metadata": {},
   "outputs": [
    {
     "data": {
      "text/plain": [
       "<matplotlib.axes._subplots.AxesSubplot at 0x2492cf91d30>"
      ]
     },
     "execution_count": 310,
     "metadata": {},
     "output_type": "execute_result"
    },
    {
     "data": {
      "image/png": "[encoded data removed]",
      "text/plain": [
       "<matplotlib.figure.Figure at 0x2492cf65e48>"
      ]
     },
     "metadata": {},
     "output_type": "display_data"
    }
   ],
   "source": [
    "sns.boxplot(ri['driver_gender'],ri['driver_age'])"
   ]
  },
  {
   "cell_type": "code",
   "execution_count": 311,
   "metadata": {},
   "outputs": [
    {
     "data": {
      "text/plain": [
       "<matplotlib.axes._subplots.AxesSubplot at 0x2492cfb38d0>"
      ]
     },
     "execution_count": 311,
     "metadata": {},
     "output_type": "execute_result"
    },
    {
     "data": {
      "image/png": "[encoded data removed]",
      "text/plain": [
       "<matplotlib.figure.Figure at 0x2492cfbb748>"
      ]
     },
     "metadata": {},
     "output_type": "display_data"
    }
   ],
   "source": [
    "sns.set()\n",
    "sns.boxplot(ri['violation'],ri['driver_age'])"
   ]
  },
  {
   "cell_type": "code",
   "execution_count": 312,
   "metadata": {},
   "outputs": [],
   "source": [
    "age_median=ri.groupby('driver_gender')['driver_age'].transform('median')\n"
   ]
  },
  {
   "cell_type": "code",
   "execution_count": 313,
   "metadata": {},
   "outputs": [],
   "source": [
    "ri['driver_age'].fillna(ri['driver_age'].median,inplace=True)"
   ]
  },
  {
   "cell_type": "code",
   "execution_count": 314,
   "metadata": {},
   "outputs": [
    {
     "name": "stdout",
     "output_type": "stream",
     "text": [
      "<class 'pandas.core.frame.DataFrame'>\n",
      "RangeIndex: 509681 entries, 0 to 509680\n",
      "Data columns (total 18 columns):\n",
      "state                 509681 non-null object\n",
      "stop_date             509671 non-null object\n",
      "stop_time             509671 non-null object\n",
      "location_raw          509681 non-null object\n",
      "police_department     509671 non-null object\n",
      "driver_gender         480584 non-null object\n",
      "driver_age            509681 non-null object\n",
      "driver_race           480608 non-null object\n",
      "violation             480608 non-null object\n",
      "search_conducted      509671 non-null object\n",
      "search_type           17762 non-null object\n",
      "contraband_found      509681 non-null bool\n",
      "stop_outcome          480608 non-null object\n",
      "is_arrested           480608 non-null object\n",
      "stop_duration         480608 non-null object\n",
      "out_of_state          479800 non-null object\n",
      "drugs_related_stop    509681 non-null bool\n",
      "district              509681 non-null object\n",
      "dtypes: bool(2), object(16)\n",
      "memory usage: 63.2+ MB\n"
     ]
    }
   ],
   "source": [
    "ri.info()"
   ]
  },
  {
   "cell_type": "code",
   "execution_count": 315,
   "metadata": {},
   "outputs": [
    {
     "data": {
      "text/plain": [
       "(509681, 18)"
      ]
     },
     "execution_count": 315,
     "metadata": {},
     "output_type": "execute_result"
    }
   ],
   "source": [
    "ri.shape"
   ]
  },
  {
   "cell_type": "code",
   "execution_count": 316,
   "metadata": {},
   "outputs": [
    {
     "data": {
      "text/plain": [
       "False    321276\n",
       "True     158524\n",
       "Name: out_of_state, dtype: int64"
      ]
     },
     "execution_count": 316,
     "metadata": {},
     "output_type": "execute_result"
    }
   ],
   "source": [
    "ri['out_of_state'].value_counts()"
   ]
  },
  {
   "cell_type": "code",
   "execution_count": 317,
   "metadata": {},
   "outputs": [],
   "source": [
    "ri['out_of_state'].fillna(False,inplace=True)"
   ]
  },
  {
   "cell_type": "code",
   "execution_count": 318,
   "metadata": {},
   "outputs": [
    {
     "name": "stdout",
     "output_type": "stream",
     "text": [
      "<class 'pandas.core.frame.DataFrame'>\n",
      "RangeIndex: 509681 entries, 0 to 509680\n",
      "Data columns (total 18 columns):\n",
      "state                 509681 non-null object\n",
      "stop_date             509671 non-null object\n",
      "stop_time             509671 non-null object\n",
      "location_raw          509681 non-null object\n",
      "police_department     509671 non-null object\n",
      "driver_gender         480584 non-null object\n",
      "driver_age            509681 non-null object\n",
      "driver_race           480608 non-null object\n",
      "violation             480608 non-null object\n",
      "search_conducted      509671 non-null object\n",
      "search_type           17762 non-null object\n",
      "contraband_found      509681 non-null bool\n",
      "stop_outcome          480608 non-null object\n",
      "is_arrested           480608 non-null object\n",
      "stop_duration         480608 non-null object\n",
      "out_of_state          509681 non-null bool\n",
      "drugs_related_stop    509681 non-null bool\n",
      "district              509681 non-null object\n",
      "dtypes: bool(3), object(15)\n",
      "memory usage: 59.8+ MB\n"
     ]
    }
   ],
   "source": [
    "ri.info()"
   ]
  },
  {
   "cell_type": "code",
   "execution_count": 319,
   "metadata": {},
   "outputs": [
    {
     "data": {
      "text/plain": [
       "violation            stop_duration\n",
       "Equipment            0-15 Min          50955\n",
       "                     16-30 Min          7699\n",
       "                     30+ Min            2597\n",
       "                     1                     1\n",
       "Moving violation     0-15 Min          65535\n",
       "                     16-30 Min         17606\n",
       "                     30+ Min            7090\n",
       "                     1                     2\n",
       "                     2                     1\n",
       "Other                0-15 Min          14028\n",
       "                     16-30 Min          6911\n",
       "                     30+ Min            3282\n",
       "Registration/plates  0-15 Min          14165\n",
       "                     16-30 Min          4531\n",
       "                     30+ Min            1134\n",
       "Seat belt            0-15 Min          14737\n",
       "                     16-30 Min          1414\n",
       "                     30+ Min             176\n",
       "Speeding             0-15 Min         227245\n",
       "                     16-30 Min         38162\n",
       "                     30+ Min            3335\n",
       "                     1                     2\n",
       "Name: stop_duration, dtype: int64"
      ]
     },
     "execution_count": 319,
     "metadata": {},
     "output_type": "execute_result"
    }
   ],
   "source": [
    "ri.groupby('violation')['stop_duration'].value_counts()"
   ]
  },
  {
   "cell_type": "code",
   "execution_count": 320,
   "metadata": {},
   "outputs": [
    {
     "data": {
      "text/plain": [
       "0-15 Min     386665\n",
       "16-30 Min     76323\n",
       "30+ Min       17614\n",
       "1                 5\n",
       "2                 1\n",
       "Name: stop_duration, dtype: int64"
      ]
     },
     "execution_count": 320,
     "metadata": {},
     "output_type": "execute_result"
    }
   ],
   "source": [
    "ri['stop_duration'].value_counts()"
   ]
  },
  {
   "cell_type": "code",
   "execution_count": 321,
   "metadata": {},
   "outputs": [],
   "source": [
    "ri['stop_duration'].fillna('0-15 Min',inplace=True)"
   ]
  },
  {
   "cell_type": "code",
   "execution_count": 322,
   "metadata": {},
   "outputs": [
    {
     "data": {
      "text/plain": [
       "violation\n",
       "Equipment              3699\n",
       "Moving violation       5169\n",
       "Other                  1942\n",
       "Registration/plates    1703\n",
       "Seat belt               436\n",
       "Speeding               3654\n",
       "Name: is_arrested, dtype: int64"
      ]
     },
     "execution_count": 322,
     "metadata": {},
     "output_type": "execute_result"
    }
   ],
   "source": [
    "ri.groupby('violation')['is_arrested'].sum()"
   ]
  },
  {
   "cell_type": "code",
   "execution_count": 323,
   "metadata": {},
   "outputs": [
    {
     "data": {
      "text/plain": [
       "False    464005\n",
       "True      16603\n",
       "Name: is_arrested, dtype: int64"
      ]
     },
     "execution_count": 323,
     "metadata": {},
     "output_type": "execute_result"
    }
   ],
   "source": [
    "ri['is_arrested'].value_counts()"
   ]
  },
  {
   "cell_type": "code",
   "execution_count": 324,
   "metadata": {},
   "outputs": [],
   "source": [
    "ri['is_arrested'].fillna(\"False\",inplace=True)"
   ]
  },
  {
   "cell_type": "code",
   "execution_count": 325,
   "metadata": {},
   "outputs": [
    {
     "data": {
      "text/plain": [
       "violation            stop_outcome    \n",
       "Equipment            Citation             46137\n",
       "                     Warning               8415\n",
       "                     Arrest Driver         2893\n",
       "                     N/D                   2652\n",
       "                     Arrest Passenger       806\n",
       "                     No Action              349\n",
       "Moving violation     Citation             77327\n",
       "                     Warning               7110\n",
       "                     Arrest Driver         4617\n",
       "                     Arrest Passenger       552\n",
       "                     No Action              427\n",
       "                     N/D                    201\n",
       "Other                Citation             19637\n",
       "                     No Action             2152\n",
       "                     Arrest Driver         1892\n",
       "                     Warning                321\n",
       "                     N/D                    169\n",
       "                     Arrest Passenger        50\n",
       "Registration/plates  Citation             16950\n",
       "                     Arrest Driver         1563\n",
       "                     Warning                945\n",
       "                     Arrest Passenger       140\n",
       "                     No Action              124\n",
       "                     N/D                    108\n",
       "Seat belt            Citation             13731\n",
       "                     Warning               2107\n",
       "                     Arrest Driver          331\n",
       "                     Arrest Passenger       105\n",
       "                     No Action               46\n",
       "                     N/D                      7\n",
       "Speeding             Citation            254606\n",
       "                     Warning               9951\n",
       "                     Arrest Driver         3334\n",
       "                     Arrest Passenger       320\n",
       "                     N/D                    294\n",
       "                     No Action              239\n",
       "Name: stop_outcome, dtype: int64"
      ]
     },
     "execution_count": 325,
     "metadata": {},
     "output_type": "execute_result"
    }
   ],
   "source": [
    "ri.groupby('violation')['stop_outcome'].value_counts()"
   ]
  },
  {
   "cell_type": "code",
   "execution_count": 326,
   "metadata": {},
   "outputs": [
    {
     "data": {
      "text/plain": [
       "Citation            428388\n",
       "Warning              28849\n",
       "Arrest Driver        14630\n",
       "N/D                   3431\n",
       "No Action             3337\n",
       "Arrest Passenger      1973\n",
       "Name: stop_outcome, dtype: int64"
      ]
     },
     "execution_count": 326,
     "metadata": {},
     "output_type": "execute_result"
    }
   ],
   "source": [
    "ri['stop_outcome'].value_counts()"
   ]
  },
  {
   "cell_type": "code",
   "execution_count": 327,
   "metadata": {},
   "outputs": [],
   "source": [
    "ri['stop_outcome'].fillna(\"Citation\",inplace=True)"
   ]
  },
  {
   "cell_type": "code",
   "execution_count": 328,
   "metadata": {},
   "outputs": [
    {
     "data": {
      "text/plain": [
       "False    491909\n",
       "True      17762\n",
       "Name: search_conducted, dtype: int64"
      ]
     },
     "execution_count": 328,
     "metadata": {},
     "output_type": "execute_result"
    }
   ],
   "source": [
    "ri['search_conducted'].value_counts()"
   ]
  },
  {
   "cell_type": "code",
   "execution_count": 329,
   "metadata": {},
   "outputs": [
    {
     "data": {
      "text/plain": [
       "violation            search_conducted\n",
       "Equipment            False                57339\n",
       "                     True                  3913\n",
       "Moving violation     False                85275\n",
       "                     True                  4959\n",
       "Other                False                23105\n",
       "                     True                  1116\n",
       "Registration/plates  False                18052\n",
       "                     True                  1778\n",
       "Seat belt            False                15859\n",
       "                     True                   468\n",
       "Speeding             False               263216\n",
       "                     True                  5528\n",
       "Name: search_conducted, dtype: int64"
      ]
     },
     "execution_count": 329,
     "metadata": {},
     "output_type": "execute_result"
    }
   ],
   "source": [
    "ri.groupby('violation')['search_conducted'].value_counts()"
   ]
  },
  {
   "cell_type": "code",
   "execution_count": 330,
   "metadata": {},
   "outputs": [],
   "source": [
    "ri['search_conducted'].fillna('False',inplace=True)"
   ]
  },
  {
   "cell_type": "code",
   "execution_count": 331,
   "metadata": {},
   "outputs": [
    {
     "data": {
      "text/plain": [
       "Speeding               268744\n",
       "Moving violation        90234\n",
       "Equipment               61252\n",
       "Other                   24221\n",
       "Registration/plates     19830\n",
       "Seat belt               16327\n",
       "Name: violation, dtype: int64"
      ]
     },
     "execution_count": 331,
     "metadata": {},
     "output_type": "execute_result"
    }
   ],
   "source": [
    "ri['violation'].value_counts()"
   ]
  },
  {
   "cell_type": "code",
   "execution_count": 332,
   "metadata": {},
   "outputs": [],
   "source": [
    "ri['violation'].fillna('Speeding',inplace=True)"
   ]
  },
  {
   "cell_type": "code",
   "execution_count": 333,
   "metadata": {},
   "outputs": [
    {
     "name": "stdout",
     "output_type": "stream",
     "text": [
      "<class 'pandas.core.frame.DataFrame'>\n",
      "RangeIndex: 509681 entries, 0 to 509680\n",
      "Data columns (total 18 columns):\n",
      "state                 509681 non-null object\n",
      "stop_date             509671 non-null object\n",
      "stop_time             509671 non-null object\n",
      "location_raw          509681 non-null object\n",
      "police_department     509671 non-null object\n",
      "driver_gender         480584 non-null object\n",
      "driver_age            509681 non-null object\n",
      "driver_race           480608 non-null object\n",
      "violation             509681 non-null object\n",
      "search_conducted      509681 non-null object\n",
      "search_type           17762 non-null object\n",
      "contraband_found      509681 non-null bool\n",
      "stop_outcome          509681 non-null object\n",
      "is_arrested           509681 non-null object\n",
      "stop_duration         509681 non-null object\n",
      "out_of_state          509681 non-null bool\n",
      "drugs_related_stop    509681 non-null bool\n",
      "district              509681 non-null object\n",
      "dtypes: bool(3), object(15)\n",
      "memory usage: 59.8+ MB\n"
     ]
    }
   ],
   "source": [
    "ri.info()"
   ]
  },
  {
   "cell_type": "code",
   "execution_count": 334,
   "metadata": {},
   "outputs": [
    {
     "data": {
      "text/plain": [
       "White       344734\n",
       "Black        68579\n",
       "Hispanic     53125\n",
       "Asian        12826\n",
       "Other         1344\n",
       "Name: driver_race, dtype: int64"
      ]
     },
     "execution_count": 334,
     "metadata": {},
     "output_type": "execute_result"
    }
   ],
   "source": [
    "ri['driver_race'].value_counts()"
   ]
  },
  {
   "cell_type": "code",
   "execution_count": 335,
   "metadata": {},
   "outputs": [
    {
     "data": {
      "text/plain": [
       "violation            driver_race\n",
       "Equipment            White           35810\n",
       "                     Black           12391\n",
       "                     Hispanic        11828\n",
       "                     Asian            1124\n",
       "                     Other              99\n",
       "Moving violation     White           58992\n",
       "                     Black           16018\n",
       "                     Hispanic        13129\n",
       "                     Asian            1822\n",
       "                     Other             273\n",
       "Other                White           15532\n",
       "                     Black            4789\n",
       "                     Hispanic         3307\n",
       "                     Asian             500\n",
       "                     Other              93\n",
       "Registration/plates  White           10731\n",
       "                     Black            4659\n",
       "                     Hispanic         4052\n",
       "                     Asian             367\n",
       "                     Other              21\n",
       "Seat belt            White           10580\n",
       "                     Hispanic         3026\n",
       "                     Black            2444\n",
       "                     Asian             266\n",
       "                     Other              11\n",
       "Speeding             White          213089\n",
       "                     Black           28278\n",
       "                     Hispanic        17783\n",
       "                     Asian            8747\n",
       "                     Other             847\n",
       "Name: driver_race, dtype: int64"
      ]
     },
     "execution_count": 335,
     "metadata": {},
     "output_type": "execute_result"
    }
   ],
   "source": [
    "ri.groupby('violation')['driver_race'].value_counts()"
   ]
  },
  {
   "cell_type": "code",
   "execution_count": 336,
   "metadata": {},
   "outputs": [],
   "source": [
    "ri['driver_race'].fillna('White',inplace=True)"
   ]
  },
  {
   "cell_type": "code",
   "execution_count": 337,
   "metadata": {},
   "outputs": [
    {
     "data": {
      "text/plain": [
       "M    349446\n",
       "F    131138\n",
       "Name: driver_gender, dtype: int64"
      ]
     },
     "execution_count": 337,
     "metadata": {},
     "output_type": "execute_result"
    }
   ],
   "source": [
    "ri['driver_gender'].value_counts()"
   ]
  },
  {
   "cell_type": "code",
   "execution_count": 338,
   "metadata": {},
   "outputs": [
    {
     "data": {
      "text/plain": [
       "violation            driver_gender\n",
       "Equipment            M                 47211\n",
       "                     F                 14039\n",
       "Moving violation     M                 72317\n",
       "                     F                 17911\n",
       "Other                M                 20425\n",
       "                     F                  3791\n",
       "Registration/plates  M                 14181\n",
       "                     F                  5649\n",
       "Seat belt            M                 12774\n",
       "                     F                  3550\n",
       "Speeding             M                182538\n",
       "                     F                 86198\n",
       "Name: driver_gender, dtype: int64"
      ]
     },
     "execution_count": 338,
     "metadata": {},
     "output_type": "execute_result"
    }
   ],
   "source": [
    "ri.groupby('violation')['driver_gender'].value_counts()"
   ]
  },
  {
   "cell_type": "code",
   "execution_count": 339,
   "metadata": {},
   "outputs": [],
   "source": [
    "ri['driver_gender'].fillna('M',inplace=True)"
   ]
  },
  {
   "cell_type": "code",
   "execution_count": 340,
   "metadata": {},
   "outputs": [
    {
     "data": {
      "text/plain": [
       "is_arrested  police_department\n",
       "False        500                  101419\n",
       "             300                   85360\n",
       "             900                   77572\n",
       "             200                   67881\n",
       "             600                   28744\n",
       "             500                   21841\n",
       "             300                   21218\n",
       "             900                   14761\n",
       "             200                   13353\n",
       "             600                   13292\n",
       "             0                     10944\n",
       "             000                    3462\n",
       "             304                    1084\n",
       "             203                     496\n",
       "             408                     463\n",
       "             202                     385\n",
       "             408                     348\n",
       "             203                     319\n",
       "             202                     243\n",
       "             502                     160\n",
       "             502                      79\n",
       "             402                      56\n",
       "             305                      43\n",
       "             201                      42\n",
       "             405                      35\n",
       "             409                      35\n",
       "             201                      33\n",
       "             9                        32\n",
       "             205                      28\n",
       "             204                      27\n",
       "                                   ...  \n",
       "True         502                       6\n",
       "             405                       5\n",
       "             402                       3\n",
       "             402                       2\n",
       "             407                       2\n",
       "             408                       2\n",
       "             408                       2\n",
       "             4                         1\n",
       "             409                       1\n",
       "             503                       1\n",
       "             505                       1\n",
       "             508                       1\n",
       "             409                       1\n",
       "             415                       1\n",
       "             505                       1\n",
       "False        500                    7590\n",
       "             200                    4123\n",
       "             300                    3897\n",
       "             900                    3527\n",
       "             0                      2083\n",
       "             500                    1762\n",
       "             600                    1568\n",
       "             300                    1414\n",
       "             000                     994\n",
       "             600                     755\n",
       "             900                     744\n",
       "             200                     581\n",
       "             9                        19\n",
       "             3                         5\n",
       "             304                       1\n",
       "Name: police_department, Length: 124, dtype: int64"
      ]
     },
     "execution_count": 340,
     "metadata": {},
     "output_type": "execute_result"
    }
   ],
   "source": [
    "ri.groupby('is_arrested')['police_department'].value_counts()"
   ]
  },
  {
   "cell_type": "code",
   "execution_count": 341,
   "metadata": {},
   "outputs": [],
   "source": [
    "ri['police_department'].fillna(500,inplace=True)"
   ]
  },
  {
   "cell_type": "code",
   "execution_count": 342,
   "metadata": {},
   "outputs": [
    {
     "name": "stdout",
     "output_type": "stream",
     "text": [
      "<class 'pandas.core.frame.DataFrame'>\n",
      "RangeIndex: 509681 entries, 0 to 509680\n",
      "Data columns (total 18 columns):\n",
      "state                 509681 non-null object\n",
      "stop_date             509671 non-null object\n",
      "stop_time             509671 non-null object\n",
      "location_raw          509681 non-null object\n",
      "police_department     509681 non-null object\n",
      "driver_gender         509681 non-null object\n",
      "driver_age            509681 non-null object\n",
      "driver_race           509681 non-null object\n",
      "violation             509681 non-null object\n",
      "search_conducted      509681 non-null object\n",
      "search_type           17762 non-null object\n",
      "contraband_found      509681 non-null bool\n",
      "stop_outcome          509681 non-null object\n",
      "is_arrested           509681 non-null object\n",
      "stop_duration         509681 non-null object\n",
      "out_of_state          509681 non-null bool\n",
      "drugs_related_stop    509681 non-null bool\n",
      "district              509681 non-null object\n",
      "dtypes: bool(3), object(15)\n",
      "memory usage: 59.8+ MB\n"
     ]
    }
   ],
   "source": [
    "ri.info()"
   ]
  },
  {
   "cell_type": "code",
   "execution_count": 343,
   "metadata": {},
   "outputs": [
    {
     "data": {
      "text/plain": [
       "10:00    1763\n",
       "11:00    1759\n",
       "09:00    1644\n",
       "10:30    1625\n",
       "09:30    1489\n",
       "15:00    1414\n",
       "14:00    1411\n",
       "11:30    1389\n",
       "10:40    1355\n",
       "08:30    1339\n",
       "09:50    1338\n",
       "14:30    1333\n",
       "10:45    1289\n",
       "10:50    1288\n",
       "10:20    1282\n",
       "10:15    1259\n",
       "23:30    1243\n",
       "09:40    1235\n",
       "09:45    1185\n",
       "11:20    1178\n",
       "11:15    1173\n",
       "08:50    1155\n",
       "09:20    1152\n",
       "09:15    1143\n",
       "00:30    1126\n",
       "10:10    1125\n",
       "01:00    1125\n",
       "15:30    1106\n",
       "23:00    1103\n",
       "12:00    1100\n",
       "         ... \n",
       "05:12      14\n",
       "05:14      14\n",
       "05:01      13\n",
       "05:17      13\n",
       "04:42      13\n",
       "05:02      13\n",
       "05:24      13\n",
       "04:41      13\n",
       "05:32      13\n",
       "05:29      13\n",
       "05:26      13\n",
       "05:44      12\n",
       "05:19      12\n",
       "04:48      12\n",
       "04:51      12\n",
       "05:11      11\n",
       "04:47      11\n",
       "04:53      11\n",
       "05:13      11\n",
       "05:16      10\n",
       "05:23      10\n",
       "04:21      10\n",
       "05:27       9\n",
       "04:58       9\n",
       "05:39       8\n",
       "04:52       8\n",
       "05:21       8\n",
       "04:56       8\n",
       "05:22       7\n",
       "05:09       7\n",
       "Name: stop_time, Length: 1440, dtype: int64"
      ]
     },
     "execution_count": 343,
     "metadata": {},
     "output_type": "execute_result"
    }
   ],
   "source": [
    "ri['stop_time'].value_counts()"
   ]
  },
  {
   "cell_type": "code",
   "execution_count": 344,
   "metadata": {},
   "outputs": [],
   "source": [
    "ri['stop_time'].fillna('10:00',inplace=True)"
   ]
  },
  {
   "cell_type": "code",
   "execution_count": 345,
   "metadata": {},
   "outputs": [
    {
     "data": {
      "text/plain": [
       "2006-05-21    302\n",
       "2015-09-05    302\n",
       "2006-06-13    293\n",
       "2012-01-08    292\n",
       "2012-01-07    290\n",
       "2005-11-05    290\n",
       "2011-09-03    282\n",
       "2012-02-28    280\n",
       "2012-01-02    279\n",
       "2006-02-09    277\n",
       "2006-03-22    276\n",
       "2012-03-23    275\n",
       "2012-03-02    275\n",
       "2012-07-21    274\n",
       "2006-01-09    272\n",
       "2007-05-16    271\n",
       "2012-01-29    271\n",
       "2014-02-23    268\n",
       "2015-09-07    266\n",
       "2012-02-22    265\n",
       "2006-04-10    265\n",
       "2005-11-04    263\n",
       "2007-01-10    262\n",
       "2012-03-11    262\n",
       "2012-01-28    261\n",
       "2007-01-17    259\n",
       "2012-02-04    259\n",
       "2012-06-09    259\n",
       "2012-03-24    257\n",
       "2006-05-27    256\n",
       "             ... \n",
       "2005-03-19      1\n",
       "2005-05-21      1\n",
       "2005-04-24      1\n",
       "2005-06-04      1\n",
       "2005-09-01      1\n",
       "2005-01-23      1\n",
       "2005-01-24      1\n",
       "2005-08-28      1\n",
       "2005-07-20      1\n",
       "2005-09-03      1\n",
       "2005-06-06      1\n",
       "2005-09-25      1\n",
       "2005-02-20      1\n",
       "2005-01-06      1\n",
       "2005-08-09      1\n",
       "2005-03-05      1\n",
       "2005-09-20      1\n",
       "2005-09-18      1\n",
       "2005-04-01      1\n",
       "2005-09-16      1\n",
       "2005-02-09      1\n",
       "2005-07-06      1\n",
       "2005-07-31      1\n",
       "2005-03-14      1\n",
       "2005-06-18      1\n",
       "2005-04-04      1\n",
       "2005-08-24      1\n",
       "2005-03-23      1\n",
       "2005-08-08      1\n",
       "2005-02-17      1\n",
       "Name: stop_date, Length: 3809, dtype: int64"
      ]
     },
     "execution_count": 345,
     "metadata": {},
     "output_type": "execute_result"
    }
   ],
   "source": [
    "ri['stop_date'].value_counts()"
   ]
  },
  {
   "cell_type": "code",
   "execution_count": 346,
   "metadata": {},
   "outputs": [],
   "source": [
    "ri['stop_date'].fillna('2006-05-21',inplace=True)"
   ]
  },
  {
   "cell_type": "code",
   "execution_count": 347,
   "metadata": {},
   "outputs": [
    {
     "name": "stdout",
     "output_type": "stream",
     "text": [
      "<class 'pandas.core.frame.DataFrame'>\n",
      "RangeIndex: 509681 entries, 0 to 509680\n",
      "Data columns (total 18 columns):\n",
      "state                 509681 non-null object\n",
      "stop_date             509681 non-null object\n",
      "stop_time             509681 non-null object\n",
      "location_raw          509681 non-null object\n",
      "police_department     509681 non-null object\n",
      "driver_gender         509681 non-null object\n",
      "driver_age            509681 non-null object\n",
      "driver_race           509681 non-null object\n",
      "violation             509681 non-null object\n",
      "search_conducted      509681 non-null object\n",
      "search_type           17762 non-null object\n",
      "contraband_found      509681 non-null bool\n",
      "stop_outcome          509681 non-null object\n",
      "is_arrested           509681 non-null object\n",
      "stop_duration         509681 non-null object\n",
      "out_of_state          509681 non-null bool\n",
      "drugs_related_stop    509681 non-null bool\n",
      "district              509681 non-null object\n",
      "dtypes: bool(3), object(15)\n",
      "memory usage: 59.8+ MB\n"
     ]
    }
   ],
   "source": [
    "ri.info()"
   ]
  },
  {
   "cell_type": "code",
   "execution_count": 348,
   "metadata": {},
   "outputs": [],
   "source": [
    "ri['is_arrested'] = ri.is_arrested.astype('bool')"
   ]
  },
  {
   "cell_type": "code",
   "execution_count": 349,
   "metadata": {},
   "outputs": [
    {
     "data": {
      "text/plain": [
       "pandas.core.frame.DataFrame"
      ]
     },
     "execution_count": 349,
     "metadata": {},
     "output_type": "execute_result"
    }
   ],
   "source": [
    "type(ri)"
   ]
  },
  {
   "cell_type": "code",
   "execution_count": 350,
   "metadata": {},
   "outputs": [],
   "source": [
    "combined_date_time=ri['stop_date'].str.cat(ri['stop_time'],sep=\" \")\n",
    "ri['stop_datetime']=pd.to_datetime(combined_date_time)"
   ]
  },
  {
   "cell_type": "code",
   "execution_count": 351,
   "metadata": {},
   "outputs": [],
   "source": [
    "ri.set_index('stop_datetime',inplace=True)"
   ]
  },
  {
   "cell_type": "code",
   "execution_count": 352,
   "metadata": {},
   "outputs": [
    {
     "data": {
      "text/plain": [
       "DatetimeIndex(['2005-01-02 01:55:00', '2005-01-02 20:30:00',\n",
       "               '2005-01-04 11:30:00', '2005-01-04 12:55:00',\n",
       "               '2005-01-06 01:30:00', '2005-01-12 08:05:00',\n",
       "               '2005-01-18 08:15:00', '2005-01-18 17:13:00',\n",
       "               '2005-01-23 23:15:00', '2005-01-24 20:32:00',\n",
       "               ...\n",
       "               '2006-05-21 10:00:00', '2006-05-21 10:00:00',\n",
       "               '2006-05-21 10:00:00', '2006-05-21 10:00:00',\n",
       "               '2006-05-21 10:00:00', '2006-05-21 10:00:00',\n",
       "               '2006-05-21 10:00:00', '2006-05-21 10:00:00',\n",
       "               '2006-05-21 10:00:00', '2006-05-21 10:00:00'],\n",
       "              dtype='datetime64[ns]', name='stop_datetime', length=509681, freq=None)"
      ]
     },
     "execution_count": 352,
     "metadata": {},
     "output_type": "execute_result"
    }
   ],
   "source": [
    "ri.index"
   ]
  },
  {
   "cell_type": "code",
   "execution_count": 353,
   "metadata": {},
   "outputs": [
    {
     "data": {
      "text/plain": [
       "<matplotlib.axes._subplots.AxesSubplot at 0x2490f664748>"
      ]
     },
     "execution_count": 353,
     "metadata": {},
     "output_type": "execute_result"
    },
    {
     "data": {
      "image/png": "[encoded data removed]",
      "text/plain": [
       "<matplotlib.figure.Figure at 0x2493fa684e0>"
      ]
     },
     "metadata": {},
     "output_type": "display_data"
    }
   ],
   "source": [
    "white_drivers=ri[ri['driver_race']=='White']\n",
    "white_drivers['stop_outcome'].value_counts().plot(kind='bar')"
   ]
  },
  {
   "cell_type": "code",
   "execution_count": 354,
   "metadata": {},
   "outputs": [
    {
     "data": {
      "text/plain": [
       "<matplotlib.axes._subplots.AxesSubplot at 0x24940e51208>"
      ]
     },
     "execution_count": 354,
     "metadata": {},
     "output_type": "execute_result"
    },
    {
     "data": {
      "image/png": "[encoded data removed]",
      "text/plain": [
       "<matplotlib.figure.Figure at 0x24940e40dd8>"
      ]
     },
     "metadata": {},
     "output_type": "display_data"
    }
   ],
   "source": [
    "pd.crosstab(ri['stop_outcome'],ri['driver_gender']).plot(kind='bar')"
   ]
  },
  {
   "cell_type": "code",
   "execution_count": 355,
   "metadata": {},
   "outputs": [
    {
     "data": {
      "text/plain": [
       "<matplotlib.axes._subplots.AxesSubplot at 0x2491c53edd8>"
      ]
     },
     "execution_count": 355,
     "metadata": {},
     "output_type": "execute_result"
    },
    {
     "data": {
      "image/png": "[encoded data removed]",
      "text/plain": [
       "<matplotlib.figure.Figure at 0x2491c522f60>"
      ]
     },
     "metadata": {},
     "output_type": "display_data"
    }
   ],
   "source": [
    "pd.crosstab(ri['is_arrested'],ri['driver_gender']).plot(kind='bar')"
   ]
  },
  {
   "cell_type": "code",
   "execution_count": 356,
   "metadata": {},
   "outputs": [
    {
     "name": "stdout",
     "output_type": "stream",
     "text": [
      "Citation            0.953247\n",
      "Warning             0.039003\n",
      "Arrest Driver       0.005290\n",
      "Arrest Passenger    0.001033\n",
      "N/D                 0.000905\n",
      "No Action           0.000522\n",
      "Name: stop_outcome, dtype: float64\n",
      "Citation            0.952235\n",
      "Warning             0.031136\n",
      "Arrest Driver       0.013600\n",
      "Arrest Passenger    0.001092\n",
      "N/D                 0.001021\n",
      "No Action           0.000917\n",
      "Name: stop_outcome, dtype: float64\n"
     ]
    }
   ],
   "source": [
    "female_and_speeding = ri[(ri.driver_gender == 'F') & (ri.violation == 'Speeding')]\n",
    "male_and_speeding = ri[(ri.driver_gender == 'M') & (ri.violation == 'Speeding')]\n",
    "print(female_and_speeding['stop_outcome'].value_counts(normalize=True))\n",
    "print(male_and_speeding['stop_outcome'].value_counts(normalize=True))"
   ]
  },
  {
   "cell_type": "code",
   "execution_count": 357,
   "metadata": {},
   "outputs": [
    {
     "data": {
      "text/plain": [
       "<matplotlib.axes._subplots.AxesSubplot at 0x2491c542e48>"
      ]
     },
     "execution_count": 357,
     "metadata": {},
     "output_type": "execute_result"
    },
    {
     "data": {
      "image/png": "[encoded data removed]",
      "text/plain": [
       "<matplotlib.figure.Figure at 0x249015afb38>"
      ]
     },
     "metadata": {},
     "output_type": "display_data"
    }
   ],
   "source": [
    "ri.groupby('driver_gender')['stop_outcome'].value_counts().plot(kind='bar')"
   ]
  },
  {
   "cell_type": "code",
   "execution_count": 358,
   "metadata": {},
   "outputs": [
    {
     "data": {
      "text/plain": [
       "<matplotlib.axes._subplots.AxesSubplot at 0x249015f7ac8>"
      ]
     },
     "execution_count": 358,
     "metadata": {},
     "output_type": "execute_result"
    },
    {
     "data": {
      "image/png": "[encoded data removed]",
      "text/plain": [
       "<matplotlib.figure.Figure at 0x24901621ba8>"
      ]
     },
     "metadata": {},
     "output_type": "display_data"
    }
   ],
   "source": [
    "ri.groupby(['district','driver_gender'])['is_arrested'].mean().plot(kind='bar')"
   ]
  },
  {
   "cell_type": "code",
   "execution_count": 359,
   "metadata": {},
   "outputs": [
    {
     "data": {
      "text/plain": [
       "<matplotlib.axes._subplots.AxesSubplot at 0x24901621a90>"
      ]
     },
     "execution_count": 359,
     "metadata": {},
     "output_type": "execute_result"
    },
    {
     "data": {
      "image/png": "[encoded data removed]",
      "text/plain": [
       "<matplotlib.figure.Figure at 0x249016e35c0>"
      ]
     },
     "metadata": {},
     "output_type": "display_data"
    }
   ],
   "source": [
    "ri.groupby('driver_gender')['search_conducted'].value_counts(normalize=True).plot(kind='bar')"
   ]
  },
  {
   "cell_type": "code",
   "execution_count": 360,
   "metadata": {},
   "outputs": [
    {
     "data": {
      "text/plain": [
       "<matplotlib.axes._subplots.AxesSubplot at 0x24901699198>"
      ]
     },
     "execution_count": 360,
     "metadata": {},
     "output_type": "execute_result"
    },
    {
     "data": {
      "image/png": "[encoded data removed]",
      "text/plain": [
       "<matplotlib.figure.Figure at 0x24919eec630>"
      ]
     },
     "metadata": {},
     "output_type": "display_data"
    }
   ],
   "source": [
    "ri.groupby(['driver_gender', 'violation'])['search_conducted'].value_counts(normalize=True).plot(kind='bar')"
   ]
  },
  {
   "cell_type": "code",
   "execution_count": 361,
   "metadata": {},
   "outputs": [
    {
     "data": {
      "text/plain": [
       "False    491909\n",
       "True      17762\n",
       "False        10\n",
       "Name: search_conducted, dtype: int64"
      ]
     },
     "execution_count": 361,
     "metadata": {},
     "output_type": "execute_result"
    }
   ],
   "source": [
    "ri['search_conducted'].value_counts()"
   ]
  },
  {
   "cell_type": "code",
   "execution_count": 362,
   "metadata": {},
   "outputs": [
    {
     "data": {
      "text/plain": [
       "NaN                                                         491919\n",
       "Incident to Arrest                                            6998\n",
       "Probable Cause                                                4989\n",
       "Reasonable Suspicion                                          1141\n",
       "Inventory                                                     1101\n",
       "Protective Frisk                                               879\n",
       "Incident to Arrest,Inventory                                   649\n",
       "Incident to Arrest,Probable Cause                              552\n",
       "Probable Cause,Reasonable Suspicion                            334\n",
       "Probable Cause,Protective Frisk                                221\n",
       "Incident to Arrest,Protective Frisk                            158\n",
       "Incident to Arrest,Inventory,Probable Cause                    151\n",
       "Inventory,Probable Cause                                       132\n",
       "Protective Frisk,Reasonable Suspicion                           83\n",
       "Incident to Arrest,Inventory,Protective Frisk                   77\n",
       "Incident to Arrest,Probable Cause,Protective Frisk              74\n",
       "Inventory,Protective Frisk                                      52\n",
       "Incident to Arrest,Reasonable Suspicion                         49\n",
       "Probable Cause,Protective Frisk,Reasonable Suspicion            31\n",
       "Incident to Arrest,Probable Cause,Reasonable Suspicion          31\n",
       "Inventory,Reasonable Suspicion                                  17\n",
       "Inventory,Probable Cause,Protective Frisk                       14\n",
       "Incident to Arrest,Inventory,Reasonable Suspicion               12\n",
       "Inventory,Probable Cause,Reasonable Suspicion                    8\n",
       "Incident to Arrest,Protective Frisk,Reasonable Suspicion         8\n",
       "Inventory,Protective Frisk,Reasonable Suspicion                  1\n",
       "Name: search_type, dtype: int64"
      ]
     },
     "execution_count": 362,
     "metadata": {},
     "output_type": "execute_result"
    }
   ],
   "source": [
    "ri['search_type'].value_counts(dropna=False)"
   ]
  },
  {
   "cell_type": "code",
   "execution_count": 363,
   "metadata": {},
   "outputs": [],
   "source": [
    "ri['inventory'] = ri['search_type'].str.contains('Inventory', na=False)"
   ]
  },
  {
   "cell_type": "code",
   "execution_count": 364,
   "metadata": {},
   "outputs": [
    {
     "data": {
      "text/plain": [
       "0.12464812521112488"
      ]
     },
     "execution_count": 364,
     "metadata": {},
     "output_type": "execute_result"
    }
   ],
   "source": [
    "ri[ri['search_conducted']==True]['inventory'].mean()"
   ]
  },
  {
   "cell_type": "code",
   "execution_count": 365,
   "metadata": {},
   "outputs": [
    {
     "name": "stdout",
     "output_type": "stream",
     "text": [
      "1598\n"
     ]
    }
   ],
   "source": [
    "ri['frisk']=ri['search_type'].str.contains('Protective Frisk',na=False)\n",
    "print(ri['frisk'].sum())"
   ]
  },
  {
   "cell_type": "code",
   "execution_count": 366,
   "metadata": {},
   "outputs": [
    {
     "name": "stdout",
     "output_type": "stream",
     "text": [
      "0.08996734601959239\n",
      "driver_gender\n",
      "F    0.066694\n",
      "M    0.093707\n",
      "Name: frisk, dtype: float64\n"
     ]
    }
   ],
   "source": [
    "searched = ri[ri['search_conducted'] == True]\n",
    "print(searched['frisk'].mean())\n",
    "print(searched.groupby('driver_gender')['frisk'].mean())"
   ]
  },
  {
   "cell_type": "code",
   "execution_count": 370,
   "metadata": {},
   "outputs": [],
   "source": [
    "hourly_arrest_rate=ri.groupby(ri.index.hour)['is_arrested'].mean()"
   ]
  },
  {
   "cell_type": "code",
   "execution_count": 372,
   "metadata": {},
   "outputs": [
    {
     "data": {
      "text/plain": [
       "Text(0.5,1,'Arrest Rate by Time of Day')"
      ]
     },
     "execution_count": 372,
     "metadata": {},
     "output_type": "execute_result"
    },
    {
     "data": {
      "image/png": "[encoded data removed]",
      "text/plain": [
       "<matplotlib.figure.Figure at 0x2491cc69cf8>"
      ]
     },
     "metadata": {},
     "output_type": "display_data"
    }
   ],
   "source": [
    "hourly_arrest_rate.plot()\n",
    "plt.xlabel('Hour')\n",
    "plt.ylabel('Arrest Rate')\n",
    "plt.title('Arrest Rate by Time of Day')"
   ]
  },
  {
   "cell_type": "code",
   "execution_count": 374,
   "metadata": {},
   "outputs": [
    {
     "data": {
      "text/plain": [
       "<matplotlib.axes._subplots.AxesSubplot at 0x2491c8e1128>"
      ]
     },
     "execution_count": 374,
     "metadata": {},
     "output_type": "execute_result"
    },
    {
     "data": {
      "image/png": "[encoded data removed]",
      "text/plain": [
       "<matplotlib.figure.Figure at 0x24919f7f898>"
      ]
     },
     "metadata": {},
     "output_type": "display_data"
    }
   ],
   "source": [
    "annual_drug_related_stop=ri['drugs_related_stop'].resample('A').mean()\n",
    "annual_drug_related_stop.plot()"
   ]
  },
  {
   "cell_type": "code",
   "execution_count": 384,
   "metadata": {},
   "outputs": [
    {
     "data": {
      "text/plain": [
       "<matplotlib.axes._subplots.AxesSubplot at 0x2491c8c4668>"
      ]
     },
     "execution_count": 384,
     "metadata": {},
     "output_type": "execute_result"
    },
    {
     "data": {
      "image/png": "[encoded data removed]",
      "text/plain": [
       "<matplotlib.figure.Figure at 0x2491c8c3ef0>"
      ]
     },
     "metadata": {},
     "output_type": "display_data"
    }
   ],
   "source": [
    "annual_arrest_rate=ri['is_arrested'].resample('A').mean()\n",
    "annual_arrest_rate.plot()"
   ]
  },
  {
   "cell_type": "code",
   "execution_count": 385,
   "metadata": {},
   "outputs": [
    {
     "data": {
      "text/plain": [
       "array([<matplotlib.axes._subplots.AxesSubplot object at 0x000002491C8B7710>,\n",
       "       <matplotlib.axes._subplots.AxesSubplot object at 0x000002491CB2D898>],\n",
       "      dtype=object)"
      ]
     },
     "execution_count": 385,
     "metadata": {},
     "output_type": "execute_result"
    },
    {
     "data": {
      "image/png": "[encoded data removed]",
      "text/plain": [
       "<matplotlib.figure.Figure at 0x2491c68cd68>"
      ]
     },
     "metadata": {},
     "output_type": "display_data"
    }
   ],
   "source": [
    "annual=pd.concat([annual_arrest_rate,annual_drug_related_stop],axis='columns')\n",
    "annual.plot(subplots=True)"
   ]
  },
  {
   "cell_type": "code",
   "execution_count": 396,
   "metadata": {},
   "outputs": [
    {
     "data": {
      "text/plain": [
       "<matplotlib.axes._subplots.AxesSubplot at 0x2491cb64a20>"
      ]
     },
     "execution_count": 396,
     "metadata": {},
     "output_type": "execute_result"
    },
    {
     "data": {
      "image/png": "[encoded data removed]",
      "text/plain": [
       "<matplotlib.figure.Figure at 0x2491ccc86d8>"
      ]
     },
     "metadata": {},
     "output_type": "display_data"
    }
   ],
   "source": [
    "table=pd.crosstab(ri['driver_race'],ri['driver_gender'])\n",
    "table=table.loc['Asian':'Hispanic']\n",
    "table.plot(kind='bar',stacked=True)"
   ]
  },
  {
   "cell_type": "code",
   "execution_count": 401,
   "metadata": {},
   "outputs": [
    {
     "data": {
      "text/plain": [
       "<matplotlib.axes._subplots.AxesSubplot at 0x2492422a1d0>"
      ]
     },
     "execution_count": 401,
     "metadata": {},
     "output_type": "execute_result"
    },
    {
     "data": {
      "image/png": "[encoded data removed]",
      "text/plain": [
       "<matplotlib.figure.Figure at 0x2491c89d400>"
      ]
     },
     "metadata": {},
     "output_type": "display_data"
    }
   ],
   "source": [
    "all_zones=pd.crosstab(ri['district'],ri['violation'])\n",
    "k_zones=all_zones.loc['Zone K1':'Zone K3']\n",
    "k_zones.plot(kind='bar')"
   ]
  },
  {
   "cell_type": "code",
   "execution_count": 416,
   "metadata": {},
   "outputs": [
    {
     "data": {
      "text/plain": [
       "<matplotlib.axes._subplots.AxesSubplot at 0x2492b54f240>"
      ]
     },
     "execution_count": 416,
     "metadata": {},
     "output_type": "execute_result"
    },
    {
     "data": {
      "image/png": "[encoded data removed]",
      "text/plain": [
       "<matplotlib.figure.Figure at 0x2492c027f98>"
      ]
     },
     "metadata": {},
     "output_type": "display_data"
    }
   ],
   "source": [
    "arrest_by_violation=ri.groupby('violation')['is_arrested'].mean()\n",
    "arrest_by_violation.sort_values(ascending=False).plot(kind='barh')"
   ]
  },
  {
   "cell_type": "code",
   "execution_count": 419,
   "metadata": {},
   "outputs": [],
   "source": [
    "ri['stop_duration'].unique()\n",
    "mapping = {'0-15 Min':8, '16-30 Min':23, '30+ Min':45}\n",
    "ri['stop_duration']=ri['stop_duration'].map(mapping)"
   ]
  },
  {
   "cell_type": "code",
   "execution_count": 421,
   "metadata": {},
   "outputs": [
    {
     "data": {
      "text/plain": [
       "8.0     415738\n",
       "23.0     76323\n",
       "45.0     17614\n",
       "Name: stop_duration, dtype: int64"
      ]
     },
     "execution_count": 421,
     "metadata": {},
     "output_type": "execute_result"
    }
   ],
   "source": [
    "ri['stop_duration'].value_counts()"
   ]
  },
  {
   "cell_type": "code",
   "execution_count": 426,
   "metadata": {},
   "outputs": [
    {
     "data": {
      "text/plain": [
       "<matplotlib.axes._subplots.AxesSubplot at 0x2491c898208>"
      ]
     },
     "execution_count": 426,
     "metadata": {},
     "output_type": "execute_result"
    },
    {
     "data": {
      "image/png": "[encoded data removed]",
      "text/plain": [
       "<matplotlib.figure.Figure at 0x249365bc6a0>"
      ]
     },
     "metadata": {},
     "output_type": "display_data"
    }
   ],
   "source": [
    "stop_length=ri.groupby('violation')['stop_duration'].mean()\n",
    "stop_length.sort_values(ascending=False).plot(kind='bar')"
   ]
  },
  {
   "cell_type": "code",
   "execution_count": 427,
   "metadata": {},
   "outputs": [
    {
     "name": "stdout",
     "output_type": "stream",
     "text": [
      "<class 'pandas.core.frame.DataFrame'>\n",
      "DatetimeIndex: 509681 entries, 2005-01-02 01:55:00 to 2006-05-21 10:00:00\n",
      "Data columns (total 20 columns):\n",
      "state                 509681 non-null object\n",
      "stop_date             509681 non-null object\n",
      "stop_time             509681 non-null object\n",
      "location_raw          509681 non-null object\n",
      "police_department     509681 non-null object\n",
      "driver_gender         509681 non-null object\n",
      "driver_age            509681 non-null object\n",
      "driver_race           509681 non-null object\n",
      "violation             509681 non-null object\n",
      "search_conducted      509681 non-null object\n",
      "search_type           17762 non-null object\n",
      "contraband_found      509681 non-null bool\n",
      "stop_outcome          509681 non-null object\n",
      "is_arrested           509681 non-null bool\n",
      "stop_duration         509675 non-null float64\n",
      "out_of_state          509681 non-null bool\n",
      "drugs_related_stop    509681 non-null bool\n",
      "district              509681 non-null object\n",
      "inventory             509681 non-null bool\n",
      "frisk                 509681 non-null bool\n",
      "dtypes: bool(6), float64(1), object(13)\n",
      "memory usage: 81.2+ MB\n"
     ]
    }
   ],
   "source": [
    "ri.info()"
   ]
  },
  {
   "cell_type": "code",
   "execution_count": 433,
   "metadata": {},
   "outputs": [],
   "source": [
    "ri['search_type'].fillna('Incident to Arrest',inplace=True)\n",
    "ri['stop_duration'].fillna(8,inplace=True)"
   ]
  }
 ],
 "metadata": {
  "kernelspec": {
   "display_name": "Python 3",
   "language": "python",
   "name": "python3"
  },
  "language_info": {
   "codemirror_mode": {
    "name": "ipython",
    "version": 3
   },
   "file_extension": ".py",
   "mimetype": "text/x-python",
   "name": "python",
   "nbconvert_exporter": "python",
   "pygments_lexer": "ipython3",
   "version": "3.6.4"
  }
 },
 "nbformat": 4,
 "nbformat_minor": 2
}
